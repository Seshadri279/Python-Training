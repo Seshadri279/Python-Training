{
  "nbformat": 4,
  "nbformat_minor": 0,
  "metadata": {
    "colab": {
      "name": "python_class 3.ipynb",
      "provenance": []
    },
    "kernelspec": {
      "name": "python3",
      "display_name": "Python 3"
    }
  },
  "cells": [
    {
      "cell_type": "markdown",
      "metadata": {
        "id": "ChQ25kkuulHw",
        "colab_type": "text"
      },
      "source": [
        "### **Numpy**"
      ]
    },
    {
      "cell_type": "code",
      "metadata": {
        "id": "Bnq0zqLvuTqD",
        "colab_type": "code",
        "colab": {}
      },
      "source": [
        "# Array operations , Multidimensional arrays , Numeric python \n",
        "# Array are of same data types where as list accepts various data types \n",
        "\n",
        "# converting an list to 1-d numpy array \n",
        "import numpy as np \n",
        "\n",
        "my_list=[2,4,6,8,10]\n",
        "arr=np.array(my_list)"
      ],
      "execution_count": 1,
      "outputs": []
    },
    {
      "cell_type": "code",
      "metadata": {
        "id": "uCmGZo0JvhUs",
        "colab_type": "code",
        "colab": {
          "base_uri": "https://localhost:8080/",
          "height": 34
        },
        "outputId": "b48b30b6-b734-441d-9d72-9ac83f84db4d"
      },
      "source": [
        "print(arr)"
      ],
      "execution_count": 2,
      "outputs": [
        {
          "output_type": "stream",
          "text": [
            "[ 2  4  6  8 10]\n"
          ],
          "name": "stdout"
        }
      ]
    },
    {
      "cell_type": "code",
      "metadata": {
        "id": "QyNbXClGvoZf",
        "colab_type": "code",
        "colab": {
          "base_uri": "https://localhost:8080/",
          "height": 34
        },
        "outputId": "556a8798-ee63-418d-f7ed-6c467ca5ff9a"
      },
      "source": [
        "arr.shape"
      ],
      "execution_count": 4,
      "outputs": [
        {
          "output_type": "execute_result",
          "data": {
            "text/plain": [
              "(5,)"
            ]
          },
          "metadata": {
            "tags": []
          },
          "execution_count": 4
        }
      ]
    },
    {
      "cell_type": "code",
      "metadata": {
        "id": "i3Qc1X2ZvxeD",
        "colab_type": "code",
        "colab": {}
      },
      "source": [
        "my_list1=[2,4,6,8,10]\n",
        "my_list2=[2,4,6,8,10]\n",
        "my_list3=[2,4,6,8,10]\n",
        "arr1=np.array([my_list1,my_list2,my_list3])"
      ],
      "execution_count": 5,
      "outputs": []
    },
    {
      "cell_type": "code",
      "metadata": {
        "id": "HdOZVzXIwXEZ",
        "colab_type": "code",
        "colab": {
          "base_uri": "https://localhost:8080/",
          "height": 68
        },
        "outputId": "7dfc30ab-8d83-4508-f73f-1b1fe1b983fc"
      },
      "source": [
        "print(arr1)"
      ],
      "execution_count": 6,
      "outputs": [
        {
          "output_type": "stream",
          "text": [
            "[[ 2  4  6  8 10]\n",
            " [ 2  4  6  8 10]\n",
            " [ 2  4  6  8 10]]\n"
          ],
          "name": "stdout"
        }
      ]
    },
    {
      "cell_type": "code",
      "metadata": {
        "id": "_s4E-kRNwamz",
        "colab_type": "code",
        "colab": {
          "base_uri": "https://localhost:8080/",
          "height": 34
        },
        "outputId": "d37c908f-e0e5-43cb-8abc-8e9ff362af9b"
      },
      "source": [
        "arr1.shape"
      ],
      "execution_count": 7,
      "outputs": [
        {
          "output_type": "execute_result",
          "data": {
            "text/plain": [
              "(3, 5)"
            ]
          },
          "metadata": {
            "tags": []
          },
          "execution_count": 7
        }
      ]
    },
    {
      "cell_type": "code",
      "metadata": {
        "id": "exZ8LpsxwiKQ",
        "colab_type": "code",
        "colab": {
          "base_uri": "https://localhost:8080/",
          "height": 102
        },
        "outputId": "9476865a-c7af-481a-e5ac-031fa40f6d38"
      },
      "source": [
        "arr.reshape(5,1)"
      ],
      "execution_count": 8,
      "outputs": [
        {
          "output_type": "execute_result",
          "data": {
            "text/plain": [
              "array([[ 2],\n",
              "       [ 4],\n",
              "       [ 6],\n",
              "       [ 8],\n",
              "       [10]])"
            ]
          },
          "metadata": {
            "tags": []
          },
          "execution_count": 8
        }
      ]
    },
    {
      "cell_type": "code",
      "metadata": {
        "id": "xu1fW1H7wgOb",
        "colab_type": "code",
        "colab": {
          "base_uri": "https://localhost:8080/",
          "height": 102
        },
        "outputId": "903a4f93-4b5c-4b41-bc26-b462c8d1bcd0"
      },
      "source": [
        "arr1.reshape(5,3)"
      ],
      "execution_count": 9,
      "outputs": [
        {
          "output_type": "execute_result",
          "data": {
            "text/plain": [
              "array([[ 2,  4,  6],\n",
              "       [ 8, 10,  2],\n",
              "       [ 4,  6,  8],\n",
              "       [10,  2,  4],\n",
              "       [ 6,  8, 10]])"
            ]
          },
          "metadata": {
            "tags": []
          },
          "execution_count": 9
        }
      ]
    },
    {
      "cell_type": "code",
      "metadata": {
        "id": "vMWNDsR8wtIk",
        "colab_type": "code",
        "colab": {
          "base_uri": "https://localhost:8080/",
          "height": 51
        },
        "outputId": "57a3f7c3-3b60-4c3f-f1c7-125d6be29721"
      },
      "source": [
        "arr1[:2,1:3]"
      ],
      "execution_count": 12,
      "outputs": [
        {
          "output_type": "execute_result",
          "data": {
            "text/plain": [
              "array([[4, 6],\n",
              "       [4, 6]])"
            ]
          },
          "metadata": {
            "tags": []
          },
          "execution_count": 12
        }
      ]
    },
    {
      "cell_type": "code",
      "metadata": {
        "id": "UG0rC6bexWSa",
        "colab_type": "code",
        "colab": {
          "base_uri": "https://localhost:8080/",
          "height": 34
        },
        "outputId": "6a097d3e-0934-4a0b-d055-84e40920f327"
      },
      "source": [
        "arrge= np.arange(0,10)\n",
        "arrge"
      ],
      "execution_count": 14,
      "outputs": [
        {
          "output_type": "execute_result",
          "data": {
            "text/plain": [
              "array([0, 1, 2, 3, 4, 5, 6, 7, 8, 9])"
            ]
          },
          "metadata": {
            "tags": []
          },
          "execution_count": 14
        }
      ]
    },
    {
      "cell_type": "code",
      "metadata": {
        "id": "ZLJLCUJvyI3L",
        "colab_type": "code",
        "colab": {
          "base_uri": "https://localhost:8080/",
          "height": 34
        },
        "outputId": "c2482db6-dc39-4549-897c-6a95308ec15e"
      },
      "source": [
        "arrge_step= np.arange(0,10,2)\n",
        "arrge_step"
      ],
      "execution_count": 15,
      "outputs": [
        {
          "output_type": "execute_result",
          "data": {
            "text/plain": [
              "array([0, 2, 4, 6, 8])"
            ]
          },
          "metadata": {
            "tags": []
          },
          "execution_count": 15
        }
      ]
    },
    {
      "cell_type": "code",
      "metadata": {
        "id": "9eBndCm7yT1J",
        "colab_type": "code",
        "colab": {
          "base_uri": "https://localhost:8080/",
          "height": 119
        },
        "outputId": "c9f941ef-abf5-4a5e-9441-ed4ccbb51bde"
      },
      "source": [
        "arrge_linspace= np.linspace(0,10,30)\n",
        "arrge_linspace"
      ],
      "execution_count": 16,
      "outputs": [
        {
          "output_type": "execute_result",
          "data": {
            "text/plain": [
              "array([ 0.        ,  0.34482759,  0.68965517,  1.03448276,  1.37931034,\n",
              "        1.72413793,  2.06896552,  2.4137931 ,  2.75862069,  3.10344828,\n",
              "        3.44827586,  3.79310345,  4.13793103,  4.48275862,  4.82758621,\n",
              "        5.17241379,  5.51724138,  5.86206897,  6.20689655,  6.55172414,\n",
              "        6.89655172,  7.24137931,  7.5862069 ,  7.93103448,  8.27586207,\n",
              "        8.62068966,  8.96551724,  9.31034483,  9.65517241, 10.        ])"
            ]
          },
          "metadata": {
            "tags": []
          },
          "execution_count": 16
        }
      ]
    },
    {
      "cell_type": "code",
      "metadata": {
        "id": "Bdb8lLRjynbg",
        "colab_type": "code",
        "colab": {}
      },
      "source": [
        ""
      ],
      "execution_count": null,
      "outputs": []
    }
  ]
}